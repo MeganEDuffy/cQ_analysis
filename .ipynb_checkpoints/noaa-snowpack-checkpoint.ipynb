{
 "cells": [
  {
   "cell_type": "markdown",
   "id": "d85b37bb",
   "metadata": {},
   "source": [
    "## Plotting NOAA Mt Manfield and Burlington Airport (BTV) daily snow depth data as proxy for Wade and Hungerford snow depths\n",
    "\n",
    "### Data downloaded for WY22 and WY23 from NOAA portal on 2024-11-27\n",
    "\n",
    "### TO DO:\n",
    "\n",
    "- [ ] plot snowdepth vs soil temp and moisture from soil sensor pits (1 per watershed)"
   ]
  },
  {
   "cell_type": "code",
   "execution_count": null,
   "id": "fc9054b4",
   "metadata": {},
   "outputs": [],
   "source": [
    "#################\n",
    "# LOAD PACKAGES #\n",
    "#################\n",
    "\n",
    "library(tidyverse)\n",
    "library(viridis)\n",
    "library(dplyr)\n",
    "library(lubridate)\n",
    "library(patchwork)\n",
    "\n",
    "###################\n",
    "# SET DIRECTORIES #\n",
    "###################\n",
    "\n",
    "setwd(\"~//OneDrive/git-repos/cQ_analysis/\")\n",
    "\n",
    "input_dir <- \"~//OneDrive/git-repos/cQ_analysis/baseflow-rules-determinaton/data/\"\n",
    "output_dir <- \"soil-resins/output\"\n",
    "#yield_input_dir <- \"~//OneDrive/git-repos/cQ_analysis/millar2021_R_separation_hysteresis/sonya-may24/custom-events_output/\"\n",
    "yield_input_dir <- \"soil-resins/\"\n",
    "\n",
    "################\n",
    "# READ IN DATA #\n",
    "################\n",
    "\n",
    "# Read in the compiled monthly available NH4/NO3 data (PO4 until 2023)\n",
    "# And get the month and year columns into a machine readable date format\n",
    "resin_data <- read.csv(file.path(input_dir, \"Resin_timeseries.csv\")) %>%\n",
    "  mutate(Date = paste(Month, \"1\", Year, sep = \" \"),\n",
    "         Date = mdy(Date))  # Convert the concatenated string to date format\n",
    "\n",
    "# Define Water Year 2022\n",
    "wy22_start <- as.Date(\"2021-10-01\")\n",
    "wy22_end <- as.Date(\"2022-09-30\")\n",
    "\n",
    "# Define Water Year 2023\n",
    "wy23_start <- as.Date(\"2022-10-01\")\n",
    "wy23_end <- as.Date(\"2023-09-30\")\n",
    "\n",
    "# Filter data for Water Year 2022\n",
    "resin_data_wy22 <- resin_data %>%\n",
    "  filter(Date >= wy22_start & Date <= wy22_end)\n",
    "\n",
    "# Filter data for Water Year 2022\n",
    "resin_data_wy23 <- resin_data %>%\n",
    "  filter(Date >= wy23_start & Date <= wy23_end)\n",
    "\n",
    "# Read in event yield data\n",
    "#yield_data <- read.csv(file.path(yield_input_dir, \"Wade_NO3_2021-2023_StormEventSummaryDataCustomDelineations.csv\"))\n",
    "wade_yield_data <- read.csv(file.path(yield_input_dir, \"Wade_WY22_storm_NO3_yields.csv\"))\n"
   ]
  }
 ],
 "metadata": {
  "kernelspec": {
   "display_name": "R",
   "language": "R",
   "name": "ir"
  },
  "language_info": {
   "codemirror_mode": "r",
   "file_extension": ".r",
   "mimetype": "text/x-r-source",
   "name": "R",
   "pygments_lexer": "r",
   "version": "4.1.2"
  }
 },
 "nbformat": 4,
 "nbformat_minor": 5
}
