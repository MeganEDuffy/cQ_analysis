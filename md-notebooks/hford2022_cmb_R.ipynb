{
 "cells": [
  {
   "cell_type": "markdown",
   "id": "f07fc2d5",
   "metadata": {},
   "source": [
    "## Conductivity mass balance for hydrograph separation\n",
    "\n",
    "### Hungerford Brook, 2022 ISCO dataset\n",
    "\n",
    "#### Data are from the BREE OneDrive directory (Watershed Data>1_Projects>EMMA>Working file for MATLAB 2023>Data_for_EMMA_2022_HB.csv)\n",
    "\n",
    "    For HB 2022 timeseries, 17 parameters total\n",
    "\n",
    "#### I didn't manipulate the csv in any way, just downloaded from the Sharepoint directory onto my machine. Aim to convert this code to work for 15 min interval SC data from the EXO2 (YSI) sonde, but for now will attempt with ISCO chloride."
   ]
  },
  {
   "cell_type": "code",
   "execution_count": 2,
   "id": "9584c103",
   "metadata": {},
   "outputs": [],
   "source": [
    "setwd(\"/home/millieginty/Documents/git-repos/cQ_analysis/\")"
   ]
  },
  {
   "cell_type": "code",
   "execution_count": 3,
   "id": "23e0ce90",
   "metadata": {},
   "outputs": [
    {
     "name": "stderr",
     "output_type": "stream",
     "text": [
      "── \u001b[1mAttaching core tidyverse packages\u001b[22m ───────────────────────────────────── tidyverse 2.0.0 ──\n",
      "\u001b[32m✔\u001b[39m \u001b[34mdplyr    \u001b[39m 1.1.3     \u001b[32m✔\u001b[39m \u001b[34mreadr    \u001b[39m 2.1.4\n",
      "\u001b[32m✔\u001b[39m \u001b[34mforcats  \u001b[39m 1.0.0     \u001b[32m✔\u001b[39m \u001b[34mstringr  \u001b[39m 1.5.0\n",
      "\u001b[32m✔\u001b[39m \u001b[34mggplot2  \u001b[39m 3.4.4     \u001b[32m✔\u001b[39m \u001b[34mtibble   \u001b[39m 3.2.1\n",
      "\u001b[32m✔\u001b[39m \u001b[34mlubridate\u001b[39m 1.9.3     \u001b[32m✔\u001b[39m \u001b[34mtidyr    \u001b[39m 1.3.0\n",
      "\u001b[32m✔\u001b[39m \u001b[34mpurrr    \u001b[39m 1.0.2     \n",
      "── \u001b[1mConflicts\u001b[22m ─────────────────────────────────────────────────────── tidyverse_conflicts() ──\n",
      "\u001b[31m✖\u001b[39m \u001b[34mdplyr\u001b[39m::\u001b[32mfilter()\u001b[39m masks \u001b[34mstats\u001b[39m::filter()\n",
      "\u001b[31m✖\u001b[39m \u001b[34mdplyr\u001b[39m::\u001b[32mlag()\u001b[39m    masks \u001b[34mstats\u001b[39m::lag()\n",
      "\u001b[36mℹ\u001b[39m Use the conflicted package (\u001b[3m\u001b[34m<http://conflicted.r-lib.org/>\u001b[39m\u001b[23m) to force all conflicts to become errors\n",
      "Loading required package: viridisLite\n",
      "\n"
     ]
    }
   ],
   "source": [
    "#################\n",
    "# LOAD PACKAGES #\n",
    "#################\n",
    "\n",
    "library(tidyverse)\n",
    "library(viridis)\n",
    "library(dplyr)\n",
    "library(lubridate)\n",
    "library(caTools)  # for numerical integration\n",
    "\n",
    "###################\n",
    "# SET DIRECTORIES #\n",
    "###################\n",
    "\n",
    "input_dir <- \"cond-hydrograph-separation/data//newrnet\"\n",
    "output_dir <- \"cond-hydrograph-separation/output/\"\n",
    "\n",
    "################\n",
    "# READ IN DATA #\n",
    "################\n",
    "\n",
    "# Read in modified Q-EC data csv from Boise State Dry Creek downloaded from https://docs.google.com/spreadsheets/d/1yARb9zLlPqkGWxe0U5nPeaPEPHsFHBGJ/edit?pli=1#gid=1826023747\n",
    "\n",
    "InputDataISCO <- read.csv(file.path(input_dir,\"Data_for_EMMA_2022_HB.csv\"))\n",
    "\n",
    "#####################\n",
    "# CLEAN THE DATA  #\n",
    "#####################\n",
    "\n",
    "# Convert missing values to NA\n",
    "#InputDataISCO[InputDataISCO == \"\"] <- NA\n",
    "\n",
    "# Convert Datetime column to proper datetime format\n",
    "#InputDataISCO$Datetime <- mdy_hms(InputDataISCO$Datetime)"
   ]
  },
  {
   "cell_type": "code",
   "execution_count": null,
   "id": "e0261b68",
   "metadata": {},
   "outputs": [],
   "source": []
  }
 ],
 "metadata": {
  "kernelspec": {
   "display_name": "R",
   "language": "R",
   "name": "ir"
  },
  "language_info": {
   "codemirror_mode": "r",
   "file_extension": ".r",
   "mimetype": "text/x-r-source",
   "name": "R",
   "pygments_lexer": "r",
   "version": "4.1.2"
  }
 },
 "nbformat": 4,
 "nbformat_minor": 5
}
