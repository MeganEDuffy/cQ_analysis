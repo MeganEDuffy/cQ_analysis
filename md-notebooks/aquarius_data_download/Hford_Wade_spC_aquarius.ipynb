{
 "cells": [
  {
   "cell_type": "markdown",
   "id": "1f9524cb",
   "metadata": {},
   "source": [
    "## Downloading EXO specific conductivity data from Aquarius\n",
    "\n",
    "### Need to be connected to UVM network* or use UVM VPN\n",
    "\n",
    "- *not eduroam\n",
    "\n",
    "### These data haven't been corrected for time out of water (maintenance) to date"
   ]
  },
  {
   "cell_type": "code",
   "execution_count": 3,
   "id": "4fa87d88",
   "metadata": {},
   "outputs": [
    {
     "name": "stderr",
     "output_type": "stream",
     "text": [
      "── \u001b[1mAttaching core tidyverse packages\u001b[22m ──────────────────────────────────────────────────────────── tidyverse 2.0.0 ──\n",
      "\u001b[32m✔\u001b[39m \u001b[34mdplyr    \u001b[39m 1.1.3     \u001b[32m✔\u001b[39m \u001b[34mreadr    \u001b[39m 2.1.4\n",
      "\u001b[32m✔\u001b[39m \u001b[34mforcats  \u001b[39m 1.0.0     \u001b[32m✔\u001b[39m \u001b[34mstringr  \u001b[39m 1.5.0\n",
      "\u001b[32m✔\u001b[39m \u001b[34mlubridate\u001b[39m 1.9.3     \u001b[32m✔\u001b[39m \u001b[34mtibble   \u001b[39m 3.2.1\n",
      "\u001b[32m✔\u001b[39m \u001b[34mpurrr    \u001b[39m 1.0.2     \u001b[32m✔\u001b[39m \u001b[34mtidyr    \u001b[39m 1.3.0\n",
      "── \u001b[1mConflicts\u001b[22m ────────────────────────────────────────────────────────────────────────────── tidyverse_conflicts() ──\n",
      "\u001b[31m✖\u001b[39m \u001b[34mdplyr\u001b[39m::\u001b[32mfilter()\u001b[39m masks \u001b[34mstats\u001b[39m::filter()\n",
      "\u001b[31m✖\u001b[39m \u001b[34mdplyr\u001b[39m::\u001b[32mlag()\u001b[39m    masks \u001b[34mstats\u001b[39m::lag()\n",
      "\u001b[36mℹ\u001b[39m Use the conflicted package (\u001b[3m\u001b[34m<http://conflicted.r-lib.org/>\u001b[39m\u001b[23m) to force all conflicts to become errors\n",
      "Loading required package: jsonlite\n",
      "\n",
      "\n",
      "Attaching package: ‘jsonlite’\n",
      "\n",
      "\n",
      "The following object is masked from ‘package:purrr’:\n",
      "\n",
      "    flatten\n",
      "\n",
      "\n",
      "Loading required package: httr\n",
      "\n"
     ]
    }
   ],
   "source": [
    "# Written by Matthew CH Vaughan\n",
    "# edited/adapted by Erin Seybold on 3/16/18\n",
    "# edited by SB, SS on 02292024\n",
    "# editied by Megan Duffy on 05/28/24, then 06/12/24\n",
    "\n",
    "#################\n",
    "# LOAD PACKAGES #\n",
    "#################\n",
    "\n",
    "library(ggplot2)\n",
    "library(\"tidyverse\")\n",
    "library(\"lubridate\")\n",
    "library(\"foqat\")\n",
    "\n",
    "##########\n",
    "# TO DOs #\n",
    "##########\n",
    "\n",
    "# automate df naming\n",
    "\n",
    "###################\n",
    "# SET DIRECTORIES #\n",
    "###################\n",
    "\n",
    "# Input as to be outside a git repo since its one itself\n",
    "setwd(\"/home/millieginty/Documents/adair-lab/AquariusR/\")\n",
    "output_dir <- \"/home/millieginty/OneDrive/git-repos/cQ_analysis/cond-hydrograph-separation/newrnet/data/\"\n",
    "\n",
    "########################\n",
    "# SET HELPER FUNCTIONS #\n",
    "########################\n",
    "\n",
    "# Helper functions call\n",
    "source(\"aquariusHelperFunctions.R\", chdir = T)\n",
    "\n",
    "# Aquarius login call\n",
    "aquariusLoginWithFile(\"aquariusLogin\")\n",
    "\n",
    "###############\n",
    "# Import data #\n",
    "###############\n",
    "\n",
    "df1 <- getCorrectedAquariusDataSeries(\n",
    "  \"Sp Cond.SpecCond@Wade Brook\",\n",
    "  startTime = \"2022-01-01T00:00:00-05:00\",\n",
    "  endTime   = \"2022-12-31T00:00:00-05:00\")\n",
    "\n",
    "df1$timestamp <-df1$Timestamp\n",
    "\n",
    "df2 <- getCorrectedAquariusDataSeries(\n",
    "  \"Sp Cond.SpecCond@Hungerford Brook\",\n",
    "  startTime = \"2022-01-01T00:00:00-05:00\",\n",
    "  endTime   = \"2022-12-31T00:00:00-05:00\")\n",
    "\n",
    "df2$timestamp <-df2$Timestamp\n",
    "\n",
    "#############\n",
    "# SAVE DATA #\n",
    "#############\n",
    "\n",
    "write.csv(df1, file.path(output_dir, paste0(\"wade_2022_sC\",\"_\", Sys.Date(),\".csv\")))\n",
    "write.csv(df2, file.path(output_dir, paste0(\"hungerford_2022_sC\",\"_\", Sys.Date(),\".csv\")))"
   ]
  },
  {
   "cell_type": "code",
   "execution_count": 1,
   "id": "2d0947c1",
   "metadata": {},
   "outputs": [
    {
     "ename": "ERROR",
     "evalue": "Error in eval(expr, envir, enclos): object 'df1' not found\n",
     "output_type": "error",
     "traceback": [
      "Error in eval(expr, envir, enclos): object 'df1' not found\nTraceback:\n"
     ]
    }
   ],
   "source": [
    "df1$\"Sp Cond.SpecCond@Hungerford Brook\" <-df1$sC\n",
    "\n",
    "#Sp Cond.SpecCond@Hungerford Brook"
   ]
  },
  {
   "cell_type": "code",
   "execution_count": null,
   "id": "2b1780a5",
   "metadata": {},
   "outputs": [],
   "source": []
  }
 ],
 "metadata": {
  "kernelspec": {
   "display_name": "R",
   "language": "R",
   "name": "ir"
  },
  "language_info": {
   "codemirror_mode": "r",
   "file_extension": ".r",
   "mimetype": "text/x-r-source",
   "name": "R",
   "pygments_lexer": "r",
   "version": "4.1.2"
  }
 },
 "nbformat": 4,
 "nbformat_minor": 5
}
