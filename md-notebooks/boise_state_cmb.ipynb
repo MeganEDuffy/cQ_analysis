{
 "cells": [
  {
   "cell_type": "markdown",
   "id": "06893ab8",
   "metadata": {},
   "source": [
    "## Testing conductivity mass balance hydrograph separation \n",
    "\n",
    "### Pindar & Jones (1969) style conductivity mass balance (CMB)\n",
    "\n",
    "### Testing using stream discharge and electrical conductivity (EC) data from Boise State Hydrology Earth Drycreek learning module _3. Calculate the Old Water and New Water Contributions to Event Flow_\n",
    "\n",
    "#### See https://www.boisestate.edu/drycreek/educational-resources/hydrograph-separation/#project-instructions\n",
    "\n",
    "### Data (hourly) are from the Dry Creek lower gauge (LG) from 1/1/2009 to 12/31/2009. \n",
    "\n",
    "### I made a csv from the Excel spreadsheet tab 1 (LG-Discharge) with just Datetime, Discharge (L/s), and EC (mS/cm). There are some missing values to deal with.\n",
    "\n",
    "### A bit more about the timeseries/exercise: \n",
    "\n",
    "#### Note: The hydrograph is dominated by the large snowmelt event that peaks on April 21, 2009. Although several rain events occur throughout the year, Summer and early-Fall events are typically too small to produce significant discharge, Spring rains fall on the rapidly receding snowmelt runoff, and late-Fall/winter precipitation is complicated by snow. 2009, however, offered two large, relatively simple rain events causing streamflow peaks on June 15, 2009 and August 7, 2009. This exercise focuses on the August storm. The exercise can be repeated for the June storm."
   ]
  },
  {
   "cell_type": "code",
   "execution_count": 21,
   "id": "3f5a8ed2",
   "metadata": {},
   "outputs": [],
   "source": [
    "setwd(\"/home/millieginty/Documents/git-repos/cQ_analysis/\")"
   ]
  },
  {
   "cell_type": "code",
   "execution_count": 26,
   "id": "a85d0d4b",
   "metadata": {},
   "outputs": [],
   "source": [
    "#################\n",
    "# LOAD PACKAGES #\n",
    "#################\n",
    "\n",
    "library(tidyverse)\n",
    "library(viridis)\n",
    "library(dplyr)\n",
    "library(lubridate)\n",
    "\n",
    "###################\n",
    "# SET DIRECTORIES #\n",
    "###################\n",
    "\n",
    "input_dir <- \"cond-hydrograph-separation/data\"\n",
    "output_dir <- \"cond-hydrograph-separation/output/\"\n",
    "\n",
    "################\n",
    "# READ IN DATA #\n",
    "################\n",
    "\n",
    "# Read in modified Q-EC data csv from Boise State Dry Creek downloaded from https://docs.google.com/spreadsheets/d/1yARb9zLlPqkGWxe0U5nPeaPEPHsFHBGJ/edit?pli=1#gid=1826023747\n",
    "\n",
    "InputData1hr <- read.csv(file.path(input_dir,\"/boise-state-ec/boise-stream-ec.csv\"))\n",
    "\n",
    "#####################\n",
    "# CLEAN THE DATA  #\n",
    "#####################\n",
    "\n",
    "# Convert missing values to NA\n",
    "InputData1hr[InputData1hr == \"\"] <- NA\n",
    "\n",
    "# Convert Datetime column to proper datetime format\n",
    "InputData1hr$Datetime <- mdy_hms(InputData1hr$Datetime)"
   ]
  },
  {
   "cell_type": "code",
   "execution_count": 27,
   "id": "6b9a25f6",
   "metadata": {},
   "outputs": [
    {
     "ename": "ERROR",
     "evalue": "\u001b[1m\u001b[33mError\u001b[39m in `geom_line()`:\u001b[22m\n\u001b[1m\u001b[22m\u001b[33m!\u001b[39m Problem while computing aesthetics.\n\u001b[36mℹ\u001b[39m Error occurred in the 1st layer.\n\u001b[1mCaused by error in `FUN()`:\u001b[22m\n\u001b[33m!\u001b[39m object 'Discharge_Ls' not found\n",
     "output_type": "error",
     "traceback": [
      "\u001b[1m\u001b[33mError\u001b[39m in `geom_line()`:\u001b[22m\n\u001b[1m\u001b[22m\u001b[33m!\u001b[39m Problem while computing aesthetics.\n\u001b[36mℹ\u001b[39m Error occurred in the 1st layer.\n\u001b[1mCaused by error in `FUN()`:\u001b[22m\n\u001b[33m!\u001b[39m object 'Discharge_Ls' not found\nTraceback:\n",
      "1. print(hydrograph_plot)",
      "2. print.ggplot(hydrograph_plot)",
      "3. ggplot_build(x)",
      "4. ggplot_build.ggplot(x)",
      "5. by_layer(function(l, d) l$compute_aesthetics(d, plot), layers, \n .     data, \"computing aesthetics\")",
      "6. try_fetch(for (i in seq_along(data)) {\n .     out[[i]] <- f(l = layers[[i]], d = data[[i]])\n . }, error = function(cnd) {\n .     cli::cli_abort(c(\"Problem while {step}.\", i = \"Error occurred in the {ordinal(i)} layer.\"), \n .         call = layers[[i]]$constructor, parent = cnd)\n . })",
      "7. tryCatch(withCallingHandlers(expr, condition = function(cnd) {\n .     {\n .         .__handler_frame__. <- TRUE\n .         .__setup_frame__. <- frame\n .         if (inherits(cnd, \"message\")) {\n .             except <- c(\"warning\", \"error\")\n .         }\n .         else if (inherits(cnd, \"warning\")) {\n .             except <- \"error\"\n .         }\n .         else {\n .             except <- \"\"\n .         }\n .     }\n .     while (!is_null(cnd)) {\n .         if (inherits(cnd, \"error\")) {\n .             out <- handlers[[1L]](cnd)\n .             if (!inherits(out, \"rlang_zap\")) \n .                 throw(out)\n .         }\n .         inherit <- .subset2(.subset2(cnd, \"rlang\"), \"inherit\")\n .         if (is_false(inherit)) {\n .             return()\n .         }\n .         cnd <- .subset2(cnd, \"parent\")\n .     }\n . }), stackOverflowError = handlers[[1L]])",
      "8. tryCatchList(expr, classes, parentenv, handlers)",
      "9. tryCatchOne(expr, names, parentenv, handlers[[1L]])",
      "10. doTryCatch(return(expr), name, parentenv, handler)",
      "11. withCallingHandlers(expr, condition = function(cnd) {\n  .     {\n  .         .__handler_frame__. <- TRUE\n  .         .__setup_frame__. <- frame\n  .         if (inherits(cnd, \"message\")) {\n  .             except <- c(\"warning\", \"error\")\n  .         }\n  .         else if (inherits(cnd, \"warning\")) {\n  .             except <- \"error\"\n  .         }\n  .         else {\n  .             except <- \"\"\n  .         }\n  .     }\n  .     while (!is_null(cnd)) {\n  .         if (inherits(cnd, \"error\")) {\n  .             out <- handlers[[1L]](cnd)\n  .             if (!inherits(out, \"rlang_zap\")) \n  .                 throw(out)\n  .         }\n  .         inherit <- .subset2(.subset2(cnd, \"rlang\"), \"inherit\")\n  .         if (is_false(inherit)) {\n  .             return()\n  .         }\n  .         cnd <- .subset2(cnd, \"parent\")\n  .     }\n  . })",
      "12. f(l = layers[[i]], d = data[[i]])",
      "13. l$compute_aesthetics(d, plot)",
      "14. compute_aesthetics(..., self = self)",
      "15. scales_add_defaults(plot$scales, data, aesthetics, plot$plot_env)",
      "16. lapply(aesthetics[new_aesthetics], eval_tidy, data = data)",
      "17. FUN(X[[i]], ...)",
      "18. .handleSimpleError(function (cnd) \n  . {\n  .     {\n  .         .__handler_frame__. <- TRUE\n  .         .__setup_frame__. <- frame\n  .         if (inherits(cnd, \"message\")) {\n  .             except <- c(\"warning\", \"error\")\n  .         }\n  .         else if (inherits(cnd, \"warning\")) {\n  .             except <- \"error\"\n  .         }\n  .         else {\n  .             except <- \"\"\n  .         }\n  .     }\n  .     while (!is_null(cnd)) {\n  .         if (inherits(cnd, \"error\")) {\n  .             out <- handlers[[1L]](cnd)\n  .             if (!inherits(out, \"rlang_zap\")) \n  .                 throw(out)\n  .         }\n  .         inherit <- .subset2(.subset2(cnd, \"rlang\"), \"inherit\")\n  .         if (is_false(inherit)) {\n  .             return()\n  .         }\n  .         cnd <- .subset2(cnd, \"parent\")\n  .     }\n  . }, \"object 'Discharge_Ls' not found\", base::quote(FUN(X[[i]], \n  .     ...)))",
      "19. h(simpleError(msg, call))",
      "20. handlers[[1L]](cnd)",
      "21. cli::cli_abort(c(\"Problem while {step}.\", i = \"Error occurred in the {ordinal(i)} layer.\"), \n  .     call = layers[[i]]$constructor, parent = cnd)",
      "22. rlang::abort(message, ..., call = call, use_cli_format = TRUE, \n  .     .frame = .frame)",
      "23. signal_abort(cnd, .file)"
     ]
    }
   ],
   "source": [
    "####################\n",
    "# PLOT THE HYDROGRAPH #\n",
    "####################\n",
    "\n",
    "# Plot using ggplot2\n",
    "hydrograph_plot <- ggplot(InputData1hr, aes(x = Datetime, y = Discharge_Ls)) +\n",
    "  geom_line(color = \"blue\") +\n",
    "  theme_minimal() +\n",
    "  labs(title = \"Stream Discharge Hydrograph\",\n",
    "       x = \"Datetime\",\n",
    "       y = \"Discharge_Ls\") +\n",
    "  scale_x_datetime(date_labels = \"%Y-%m-%d %H:%M\", date_breaks = \"1 week\") +\n",
    "  theme(axis.text.x = element_text(angle = 45, hjust = 1))\n",
    "\n",
    "# Print the plot\n",
    "print(hydrograph_plot)"
   ]
  },
  {
   "cell_type": "code",
   "execution_count": null,
   "id": "287d00ad",
   "metadata": {},
   "outputs": [],
   "source": []
  }
 ],
 "metadata": {
  "kernelspec": {
   "display_name": "R",
   "language": "R",
   "name": "ir"
  },
  "language_info": {
   "codemirror_mode": "r",
   "file_extension": ".r",
   "mimetype": "text/x-r-source",
   "name": "R",
   "pygments_lexer": "r",
   "version": "4.1.2"
  }
 },
 "nbformat": 4,
 "nbformat_minor": 5
}
