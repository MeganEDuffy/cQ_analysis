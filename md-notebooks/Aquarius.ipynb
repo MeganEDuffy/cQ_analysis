{
 "cells": [
  {
   "cell_type": "markdown",
   "id": "4bb651ee",
   "metadata": {},
   "source": [
    "## Downloading EXO specific conductivity data from Aquarius\n",
    "\n",
    "### Need to be connected to UVM network or use UVM VPN\n",
    "### "
   ]
  },
  {
   "cell_type": "code",
   "execution_count": 8,
   "id": "4fa87d88",
   "metadata": {},
   "outputs": [],
   "source": [
    "# Written by Matthew CH Vaughan\n",
    "# edited/adapted by Erin Seybold on 3/16/18\n",
    "# edited by SB, SS on 02292024\n",
    "# editied by Megan Duffy on 05/28/24\n",
    "\n",
    "library(ggplot2)\n",
    "library(\"tidyverse\")\n",
    "library(\"lubridate\")\n",
    "library(\"foqat\")\n",
    "\n",
    "#####\n",
    "# MED need to update to put output into OneDrive #\n",
    "#####\n",
    "# -------------------------------------------------------------------------  \n",
    "# -------------------------------------------------------------------------  \n",
    "# User inputs -------------------------------------------------------------\n",
    "\n",
    "#setwd(\"/Users/mat/OneDrive - University of Vermont/Watershed Data/Streams/02_site_data/discharge\") # for MAC\n",
    "# setwd(\"/Users/dustinkincaid/OneDrive - University of Vermont/Watershed Data/Streams/02_site_data/discharge\")\n",
    "# Import data\n",
    "\n",
    "# Import data\n",
    "setwd(\"/home/millieginty/Documents/adair-lab/AquariusR/\")\n",
    "\n",
    "#### - edited by SB and SS 02292024\n",
    "#### - editied by MED on 05282024\n",
    "\n",
    "source(\"aquariusHelperFunctions.R\", chdir = T)\n",
    "\n",
    "aquariusLoginWithFile(\"aquariusLogin\")\n",
    "\n",
    "\n",
    "df1 <- getCorrectedAquariusDataSeries(\n",
    "  \"Sp Cond.SpecCond@Wade Brook\",\n",
    "  startTime = \"2022-01-01T00:00:00-05:00\",\n",
    "  endTime   = \"2022-12-31T00:00:00-05:00\")\n",
    "\n",
    "df1$timestamp <-df1$Timestamp\n",
    "\n",
    " # Export q data\n",
    "write.csv(df1, \"hungerford_2022_sC.csv\")"
   ]
  },
  {
   "cell_type": "code",
   "execution_count": null,
   "id": "c1ec6f7b",
   "metadata": {},
   "outputs": [],
   "source": []
  }
 ],
 "metadata": {
  "kernelspec": {
   "display_name": "R",
   "language": "R",
   "name": "ir"
  },
  "language_info": {
   "codemirror_mode": "r",
   "file_extension": ".r",
   "mimetype": "text/x-r-source",
   "name": "R",
   "pygments_lexer": "r",
   "version": "4.1.2"
  }
 },
 "nbformat": 4,
 "nbformat_minor": 5
}
