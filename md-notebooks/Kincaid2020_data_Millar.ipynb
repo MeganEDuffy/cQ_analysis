{
 "cells": [
  {
   "cell_type": "markdown",
   "metadata": {},
   "source": [
    "## This notebook details practicing and playing around with Millar et al's R code for automatic event delineation and hysteresis calcs using the s::can and discharge data from [Kincaid et al., 2020](https://agupubs.onlinelibrary.wiley.com/doi/10.1029/2020WR027361) \n",
    "\n",
    "- ### Data publicly available here on HydroShare: https://www.hydroshare.org/resource/85fa32a11fbb49779033934a135f54ef/\n",
    "\n",
    "- ### I downloaded on 05.02.24 and put it here in this directory /home/millieginty/Documents/git-repos/cQ_analysis/millar2021_R_partition_hysteresis\n",
    "\n",
    "- ### The raw data file has discharge (q m3s), NO3, and SRP with timestamp and event start/end times for each watershed. The Millar code takes just timestamp, q, and C input csvs so I'll separate this raw data file into just those parameters for each site over the entire time period (>400 events from 2014 to 2018, no winter events)."
   ]
  },
  {
   "cell_type": "code",
   "execution_count": 1,
   "metadata": {},
   "outputs": [],
   "source": [
    "import os\n",
    "os.chdir(\"/home/millieginty/Documents/git-repos/cQ_analysis/millar2021_R_partition_hysteresis/\")"
   ]
  },
  {
   "cell_type": "code",
   "execution_count": 5,
   "metadata": {},
   "outputs": [
    {
     "ename": "NameError",
     "evalue": "name 'wade_dataframes' is not defined",
     "output_type": "error",
     "traceback": [
      "\u001b[0;31m---------------------------------------------------------------------------\u001b[0m",
      "\u001b[0;31mNameError\u001b[0m                                 Traceback (most recent call last)",
      "Cell \u001b[0;32mIn [5], line 18\u001b[0m\n\u001b[1;32m     14\u001b[0m     site_dataframes[site] \u001b[38;5;241m=\u001b[39m df[df[\u001b[38;5;124m'\u001b[39m\u001b[38;5;124msite\u001b[39m\u001b[38;5;124m'\u001b[39m] \u001b[38;5;241m==\u001b[39m site]\n\u001b[1;32m     16\u001b[0m \u001b[38;5;66;03m# Access each df by its site name from the site_dataframes dictionary\u001b[39;00m\n\u001b[1;32m     17\u001b[0m \u001b[38;5;66;03m# For example, to access the dataframe for site 'Wade':\u001b[39;00m\n\u001b[0;32m---> 18\u001b[0m wade_df \u001b[38;5;241m=\u001b[39m \u001b[43mwade_dataframes\u001b[49m[\u001b[38;5;124m'\u001b[39m\u001b[38;5;124mWade\u001b[39m\u001b[38;5;124m'\u001b[39m]\n\u001b[1;32m     20\u001b[0m wade_df\u001b[38;5;241m.\u001b[39mhead(\u001b[38;5;241m20\u001b[39m)\n",
      "\u001b[0;31mNameError\u001b[0m: name 'wade_dataframes' is not defined"
     ]
    }
   ],
   "source": [
    "import pandas as pd\n",
    "\n",
    "# Read the CSV file into a dataframe\n",
    "df = pd.read_csv('kincaid2020_hydroshare/hydroshare_rawData.csv')\n",
    "\n",
    "# Get unique values from the 'site' column\n",
    "unique_sites = df['site'].unique()\n",
    "\n",
    "# Create a dictionary to hold the separate dataframes\n",
    "site_dataframes = {}\n",
    "\n",
    "# Iterate over unique sites and create separate dataframes\n",
    "for site in unique_sites:\n",
    "    site_dataframes[site] = df[df['site'] == site]\n",
    "\n",
    "# Access each df by its site name from the site_dataframes dictionary\n",
    "# For example, to access the dataframe for site 'Wade':\n",
    "wade_df = wade_dataframes['Wade']\n",
    "\n",
    "wade_df.head(20)\n",
    "\n",
    "# You can also save each DataFrame to a separate CSV file if needed\n",
    "#for site, site_df in site_dataframes.items():\n",
    "    #site_df.to_csv(f'{site}_data.csv', index=False)\n",
    "\n"
   ]
  },
  {
   "cell_type": "code",
   "execution_count": null,
   "metadata": {},
   "outputs": [],
   "source": []
  }
 ],
 "metadata": {
  "kernelspec": {
   "display_name": "Python 3 (ipykernel)",
   "language": "python",
   "name": "python3"
  },
  "language_info": {
   "codemirror_mode": {
    "name": "ipython",
    "version": 3
   },
   "file_extension": ".py",
   "mimetype": "text/x-python",
   "name": "python",
   "nbconvert_exporter": "python",
   "pygments_lexer": "ipython3",
   "version": "3.10.6"
  }
 },
 "nbformat": 4,
 "nbformat_minor": 4
}
