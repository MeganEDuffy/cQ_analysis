{
 "cells": [
  {
   "cell_type": "markdown",
   "id": "fdbbbc31",
   "metadata": {},
   "source": [
    "## In this R notebook I use Millar et al's workflow for automatic event delineation/hystereis using the s::can and discharge data from [Kincaid et al., 2020](https://agupubs.onlinelibrary.wiley.com/doi/10.1029/2020WR027361). In [this notebook](https://github.com/MeganEDuffy/cQ_analysis/blob/main/md-notebooks/Kincaid2020_Millar_workflow.ipynb) I follow through with event hysteresis index and flushing index determination, but here I am just adjusting the Millar code to get event water yields and nutrient yields for this dataset.\n",
    "\n",
    "- ### Data publicly available here on HydroShare: https://www.hydroshare.org/resource/85fa32a11fbb49779033934a135f54ef/\n",
    "\n",
    "- ### This larger dataset includes the 2014-2015 discharge and nitrate data from Vaughan, M. (2017). Vermont NEWRnet stations: 2014-2015 high-frequency DOC, nitrate, and discharge data, HydroShare, http://www.hydroshare.org/resource/faac1672244c407e9c9c8644c8211fd6.\n",
    "\n",
    "- ### Note that there is a Hungerford data gap in 2016 to adjust this code for\n",
    "\n",
    "- ### I downloaded on 05.02.24 and put it here in this directory /home/millieginty/OneDrive/git-repos/cQ_analysis/millar2021_R_partition_hysteresis\n",
    "\n",
    "- ### The raw data file has discharge (q m3s), NO3, and SRP with timestamp and event start/end times for each watershed. The Millar code takes just timestamp, q, and C input csvs so I separate this raw data file into just those parameters for each site over the entire time period (>400 events from 2014 to 2018, no winter events).\n",
    "\n",
    "## I also plot the original Kincaid 2020 events as delineated using HydRun with manual interventions.\n",
    " \n",
    " - ### Data were copied to this repo from the BREE OneDrive directory. One csv for each watershed, 2014-2018."
   ]
  }
 ],
 "metadata": {
  "kernelspec": {
   "display_name": "R",
   "language": "R",
   "name": "ir"
  },
  "language_info": {
   "codemirror_mode": "r",
   "file_extension": ".r",
   "mimetype": "text/x-r-source",
   "name": "R",
   "pygments_lexer": "r",
   "version": "4.1.2"
  }
 },
 "nbformat": 4,
 "nbformat_minor": 5
}
